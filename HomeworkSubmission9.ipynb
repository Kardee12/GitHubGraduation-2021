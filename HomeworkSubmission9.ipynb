{
  "cells": [
    {
      "cell_type": "markdown",
      "metadata": {
        "id": "view-in-github",
        "colab_type": "text"
      },
      "source": [
        "<a href=\"https://colab.research.google.com/github/Kardee12/GitHubGraduation-2021/blob/main/HomeworkSubmission9.ipynb\" target=\"_parent\"><img src=\"https://colab.research.google.com/assets/colab-badge.svg\" alt=\"Open In Colab\"/></a>"
      ]
    },
    {
      "cell_type": "markdown",
      "metadata": {
        "id": "JtYhf1oDFPwm"
      },
      "source": [
        "# <b>CS156 (Introduction to AI), Fall 2022</b>\n",
        "# <u><b>Homework 9 submission</b></u>"
      ]
    },
    {
      "cell_type": "markdown",
      "metadata": {
        "id": "2WSO4tV3FPwn"
      },
      "source": [
        "### Roster Name: Karthik Manishankar\n",
        "### Preferred Name (if different): Chosen Name\n",
        "### Student ID: 015712086\n",
        "### Email address: karthik.manishankar@sjsu.edu\n",
        "Any special notes or anything you would like to communicate to me about this homework submission goes in here.\n",
        "\n",
        "Code examples from Autoencoder.MNIST"
      ]
    },
    {
      "cell_type": "markdown",
      "metadata": {
        "id": "E3K_cGiPFPwn"
      },
      "source": [
        "##  <u>References and sources </u>"
      ]
    },
    {
      "cell_type": "markdown",
      "metadata": {
        "id": "lm5Hhq_6FPwn"
      },
      "source": [
        "List all your references and sources here.\n",
        "This includes all sites/discussion boards/blogs/posts/etc. where you grabbed some code examples."
      ]
    },
    {
      "cell_type": "markdown",
      "metadata": {
        "id": "YLP0AtyXFPwn"
      },
      "source": [
        "##  <u>Solution</u>"
      ]
    },
    {
      "cell_type": "markdown",
      "metadata": {
        "id": "Xmq5ZHiqFPwn"
      },
      "source": [
        "#### Load libraries and set random number generator seed"
      ]
    },
    {
      "cell_type": "code",
      "execution_count": 1,
      "metadata": {
        "id": "9v7Ia8WzFPwo"
      },
      "outputs": [],
      "source": [
        "import tensorflow\n",
        "from tensorflow import keras\n",
        "from tensorflow.keras.layers import BatchNormalization\n",
        "from tensorflow.keras.layers import Conv2D\n",
        "from tensorflow.keras.layers import Conv2DTranspose\n",
        "from tensorflow.keras.layers import LeakyReLU\n",
        "from tensorflow.keras.layers import Activation\n",
        "from tensorflow.keras.layers import Flatten\n",
        "from tensorflow.keras.layers import Dense\n",
        "from tensorflow.keras.layers import Reshape\n",
        "from tensorflow.keras.layers import Input\n",
        "from tensorflow.keras.models import Model\n",
        "from tensorflow.keras import backend as K\n",
        "import numpy as np\n",
        "from tensorflow.keras.layers import Dense, Input, Conv2D, LSTM, MaxPool2D, UpSampling2D\n",
        "from sklearn.model_selection import train_test_split\n",
        "from tensorflow.keras.callbacks import EarlyStopping\n",
        "from tensorflow.keras.utils import to_categorical\n",
        "from numpy import argmax, array_equal\n",
        "import matplotlib.pyplot as plt\n",
        "import seaborn as sns\n",
        "from tensorflow.keras.models import Model\n",
        "from random import randint\n",
        "import pandas as pd\n",
        "import numpy as np\n",
        "from tensorflow.keras import layers\n",
        "from PIL import Image\n",
        "from tensorflow.keras import regularizers\n",
        "from tensorflow.keras import backend\n",
        "from datetime import datetime"
      ]
    },
    {
      "cell_type": "code",
      "execution_count": 2,
      "metadata": {
        "id": "i8LfIf48FPwo"
      },
      "outputs": [],
      "source": [
        "np.random.seed(42)"
      ]
    },
    {
      "cell_type": "markdown",
      "metadata": {
        "id": "GIXoCTAhFPwo"
      },
      "source": [
        "#### Code the solution"
      ]
    },
    {
      "cell_type": "markdown",
      "source": [
        "**Problem #1**"
      ],
      "metadata": {
        "id": "aSauDgIsKHlz"
      }
    },
    {
      "cell_type": "code",
      "execution_count": 3,
      "metadata": {
        "id": "OpwDcT18FPwo",
        "colab": {
          "base_uri": "https://localhost:8080/",
          "height": 0
        },
        "outputId": "a8b22a1d-9462-47ec-beab-50ca42474d1c"
      },
      "outputs": [
        {
          "output_type": "stream",
          "name": "stdout",
          "text": [
            "Downloading data from https://storage.googleapis.com/tensorflow/tf-keras-datasets/train-labels-idx1-ubyte.gz\n",
            "29515/29515 [==============================] - 0s 0us/step\n",
            "Downloading data from https://storage.googleapis.com/tensorflow/tf-keras-datasets/train-images-idx3-ubyte.gz\n",
            "26421880/26421880 [==============================] - 0s 0us/step\n",
            "Downloading data from https://storage.googleapis.com/tensorflow/tf-keras-datasets/t10k-labels-idx1-ubyte.gz\n",
            "5148/5148 [==============================] - 0s 0us/step\n",
            "Downloading data from https://storage.googleapis.com/tensorflow/tf-keras-datasets/t10k-images-idx3-ubyte.gz\n",
            "4422102/4422102 [==============================] - 0s 0us/step\n"
          ]
        }
      ],
      "source": [
        "(x_train_valid, y_train_valid), (x_test, y_test) = keras.datasets.fashion_mnist.load_data()"
      ]
    },
    {
      "cell_type": "code",
      "execution_count": 4,
      "metadata": {
        "colab": {
          "base_uri": "https://localhost:8080/",
          "height": 0
        },
        "id": "oENW-gCeFPwo",
        "outputId": "20769b1c-36bf-49a8-b0c0-979fbf41837b"
      },
      "outputs": [
        {
          "output_type": "execute_result",
          "data": {
            "text/plain": [
              "((48000, 784), (12000, 784), (10000, 784))"
            ]
          },
          "metadata": {},
          "execution_count": 4
        }
      ],
      "source": [
        "x_train, x_validation, y_train, y_validation = train_test_split(x_train_valid, y_train_valid, test_size=0.2, random_state=0)\n",
        "# Scale images to the [0, 1] range\n",
        "x_train = x_train.astype(\"float32\") / 255\n",
        "x_validation = x_validation.astype(\"float32\") / 255\n",
        "x_test = x_test.astype(\"float32\") / 255\n",
        "\n",
        "x_train.shape, x_validation.shape, x_test.shape\n",
        "\n",
        "# Reshape the images into flat ANN layers\n",
        "x_train = x_train.reshape(-1, 784)\n",
        "x_validation = x_validation.reshape(-1, 784)\n",
        "x_test = x_test.reshape(-1, 784)\n",
        "\n",
        "x_train.shape, x_validation.shape, x_test.shape"
      ]
    },
    {
      "cell_type": "code",
      "execution_count": 5,
      "metadata": {
        "colab": {
          "base_uri": "https://localhost:8080/",
          "height": 0
        },
        "id": "uk3gz9bOFPwo",
        "outputId": "f055c071-1402-410b-e401-1deaf4dd9d96"
      },
      "outputs": [
        {
          "output_type": "stream",
          "name": "stdout",
          "text": [
            "Model: \"model\"\n",
            "_________________________________________________________________\n",
            " Layer (type)                Output Shape              Param #   \n",
            "=================================================================\n",
            " input_1 (InputLayer)        [(None, 784)]             0         \n",
            "                                                                 \n",
            " dense (Dense)               (None, 128)               100480    \n",
            "                                                                 \n",
            " dense_1 (Dense)             (None, 64)                8256      \n",
            "                                                                 \n",
            " dense_2 (Dense)             (None, 32)                2080      \n",
            "                                                                 \n",
            " dense_3 (Dense)             (None, 64)                2112      \n",
            "                                                                 \n",
            " dense_4 (Dense)             (None, 128)               8320      \n",
            "                                                                 \n",
            " dense_5 (Dense)             (None, 784)               101136    \n",
            "                                                                 \n",
            "=================================================================\n",
            "Total params: 222,384\n",
            "Trainable params: 222,384\n",
            "Non-trainable params: 0\n",
            "_________________________________________________________________\n"
          ]
        }
      ],
      "source": [
        "input_layer = Input(shape=(784,))   # 28*28\n",
        "\n",
        "encoded = layers.Dense(128, activation='relu')(input_layer)\n",
        "encoded = layers.Dense(64, activation='relu')(encoded)\n",
        "encoded = layers.Dense(32, activation='relu')(encoded)\n",
        "\n",
        "decoded = layers.Dense(64, activation='relu')(encoded)\n",
        "decoded = layers.Dense(128, activation='relu')(decoded)\n",
        "decoded = layers.Dense(784, activation='sigmoid')(decoded)\n",
        "# reconstruction model:\n",
        "autoencoder = keras.Model(input_layer, decoded)\n",
        "\n",
        "# encoder model:\n",
        "encoder = keras.Model(input_layer, encoded)\n",
        "\n",
        "# decoder model:\n",
        "encoded_input = keras.Input(shape=(128,))\n",
        "decoder_layer = autoencoder.layers[-1]  # last layer of autoencoder model\n",
        "decoder = keras.Model(encoded_input, decoder_layer(encoded_input))\n",
        "autoencoder.summary()"
      ]
    },
    {
      "cell_type": "code",
      "execution_count": 6,
      "metadata": {
        "colab": {
          "base_uri": "https://localhost:8080/",
          "height": 0
        },
        "id": "MiBS226KFPwo",
        "outputId": "42f1b4e9-fbac-49c0-f9af-656f8222dbdd"
      },
      "outputs": [
        {
          "output_type": "stream",
          "name": "stdout",
          "text": [
            "Epoch 1/30\n",
            "24/24 [==============================] - 7s 210ms/step - loss: 0.5994 - val_loss: 0.4926\n",
            "Epoch 2/30\n",
            "24/24 [==============================] - 5s 198ms/step - loss: 0.4409 - val_loss: 0.4018\n",
            "Epoch 3/30\n",
            "24/24 [==============================] - 3s 102ms/step - loss: 0.3841 - val_loss: 0.3727\n",
            "Epoch 4/30\n",
            "24/24 [==============================] - 3s 106ms/step - loss: 0.3633 - val_loss: 0.3557\n",
            "Epoch 5/30\n",
            "24/24 [==============================] - 3s 105ms/step - loss: 0.3477 - val_loss: 0.3426\n",
            "Epoch 6/30\n",
            "24/24 [==============================] - 2s 104ms/step - loss: 0.3352 - val_loss: 0.3323\n",
            "Epoch 7/30\n",
            "24/24 [==============================] - 2s 103ms/step - loss: 0.3264 - val_loss: 0.3252\n",
            "Epoch 8/30\n",
            "24/24 [==============================] - 3s 126ms/step - loss: 0.3203 - val_loss: 0.3198\n",
            "Epoch 9/30\n",
            "24/24 [==============================] - 3s 137ms/step - loss: 0.3158 - val_loss: 0.3166\n",
            "Epoch 10/30\n",
            "24/24 [==============================] - 2s 104ms/step - loss: 0.3133 - val_loss: 0.3141\n",
            "Epoch 11/30\n",
            "24/24 [==============================] - 2s 104ms/step - loss: 0.3118 - val_loss: 0.3135\n",
            "Epoch 12/30\n",
            "24/24 [==============================] - 2s 104ms/step - loss: 0.3102 - val_loss: 0.3112\n",
            "Epoch 13/30\n",
            "24/24 [==============================] - 2s 103ms/step - loss: 0.3090 - val_loss: 0.3103\n",
            "Epoch 14/30\n",
            "24/24 [==============================] - 3s 106ms/step - loss: 0.3077 - val_loss: 0.3093\n",
            "Epoch 15/30\n",
            "24/24 [==============================] - 3s 105ms/step - loss: 0.3064 - val_loss: 0.3078\n",
            "Epoch 16/30\n",
            "24/24 [==============================] - 2s 104ms/step - loss: 0.3062 - val_loss: 0.3069\n",
            "Epoch 17/30\n",
            "24/24 [==============================] - 2s 103ms/step - loss: 0.3042 - val_loss: 0.3059\n",
            "Epoch 18/30\n",
            "24/24 [==============================] - 2s 103ms/step - loss: 0.3033 - val_loss: 0.3058\n",
            "Epoch 19/30\n",
            "24/24 [==============================] - 2s 103ms/step - loss: 0.3025 - val_loss: 0.3041\n",
            "Epoch 20/30\n",
            "24/24 [==============================] - 2s 104ms/step - loss: 0.3018 - val_loss: 0.3032\n",
            "Epoch 21/30\n",
            "24/24 [==============================] - 2s 102ms/step - loss: 0.3007 - val_loss: 0.3033\n",
            "Epoch 22/30\n",
            "24/24 [==============================] - 2s 102ms/step - loss: 0.3004 - val_loss: 0.3018\n",
            "Epoch 23/30\n",
            "24/24 [==============================] - 2s 102ms/step - loss: 0.2998 - val_loss: 0.3013\n",
            "Epoch 24/30\n",
            "24/24 [==============================] - 2s 103ms/step - loss: 0.2988 - val_loss: 0.3005\n",
            "Epoch 25/30\n",
            "24/24 [==============================] - 2s 102ms/step - loss: 0.2990 - val_loss: 0.3003\n",
            "Epoch 26/30\n",
            "24/24 [==============================] - 2s 102ms/step - loss: 0.2979 - val_loss: 0.2998\n",
            "Epoch 27/30\n",
            "24/24 [==============================] - 2s 104ms/step - loss: 0.2972 - val_loss: 0.2989\n",
            "Epoch 28/30\n",
            "24/24 [==============================] - 2s 104ms/step - loss: 0.2968 - val_loss: 0.2991\n",
            "Epoch 29/30\n",
            "24/24 [==============================] - 3s 139ms/step - loss: 0.2965 - val_loss: 0.2980\n",
            "Epoch 30/30\n",
            "24/24 [==============================] - 3s 122ms/step - loss: 0.2958 - val_loss: 0.2977\n"
          ]
        },
        {
          "output_type": "execute_result",
          "data": {
            "text/plain": [
              "<keras.callbacks.History at 0x7fa7958bd6d0>"
            ]
          },
          "metadata": {},
          "execution_count": 6
        }
      ],
      "source": [
        "autoencoder.compile(optimizer='adam', loss='binary_crossentropy')\n",
        "\n",
        "autoencoder.fit(x_train, x_train,\n",
        "                epochs=30,\n",
        "                batch_size=2048,\n",
        "                shuffle=True,\n",
        "                validation_data=(x_test, x_test))"
      ]
    },
    {
      "cell_type": "code",
      "execution_count": 7,
      "metadata": {
        "colab": {
          "base_uri": "https://localhost:8080/",
          "height": 266
        },
        "id": "ho743-1ZFPwp",
        "outputId": "7ca6f97b-28fe-4033-f6de-9ccd554219b5"
      },
      "outputs": [
        {
          "output_type": "stream",
          "name": "stdout",
          "text": [
            "313/313 [==============================] - 1s 3ms/step\n"
          ]
        },
        {
          "output_type": "display_data",
          "data": {
            "text/plain": [
              "<Figure size 1440x288 with 20 Axes>"
            ],
            "image/png": "[encoded data removed]"
          },
          "metadata": {
            "needs_background": "light"
          }
        }
      ],
      "source": [
        "predictions = autoencoder.predict(x_test)\n",
        "\n",
        "n = 10\n",
        "plt.figure(figsize=(20, 4))\n",
        "for i in range(n):\n",
        "    # original\n",
        "    ax = plt.subplot(2, n, i + 1)\n",
        "    plt.imshow(x_test[i].reshape(28, 28))\n",
        "    plt.gray()\n",
        "    ax.get_xaxis().set_visible(False)\n",
        "    ax.get_yaxis().set_visible(False)\n",
        "\n",
        "    # reconstruction\n",
        "    ax = plt.subplot(2, n, i + 1 + n)\n",
        "    plt.imshow(predictions[i].reshape(28, 28))\n",
        "    plt.gray()\n",
        "    ax.get_xaxis().set_visible(False)\n",
        "    ax.get_yaxis().set_visible(False)\n",
        "plt.show()"
      ]
    },
    {
      "cell_type": "markdown",
      "source": [
        "**Problem #2**"
      ],
      "metadata": {
        "id": "tZg7sC0MJ9V-"
      }
    },
    {
      "cell_type": "code",
      "source": [
        "x_train = x_train.reshape(-1, 28, 28, 1)\n",
        "x_test = x_test.reshape(-1, 28, 28, 1)\n",
        "x_validation = x_validation.reshape(-1, 28, 28, 1)\n",
        "x_train.shape, x_validation.shape, x_test.shape"
      ],
      "metadata": {
        "colab": {
          "base_uri": "https://localhost:8080/",
          "height": 0
        },
        "id": "XI9Aao6bJ7Qv",
        "outputId": "5ca9b637-5552-431c-cac9-0fe6f4eff278"
      },
      "execution_count": 8,
      "outputs": [
        {
          "output_type": "execute_result",
          "data": {
            "text/plain": [
              "((48000, 28, 28, 1), (12000, 28, 28, 1), (10000, 28, 28, 1))"
            ]
          },
          "metadata": {},
          "execution_count": 8
        }
      ]
    },
    {
      "cell_type": "code",
      "source": [
        "noise_factor = 0.4\n",
        "x_train_noisy = x_train + noise_factor * np.random.normal(loc=0.0, scale=1.0, size=x_train.shape) \n",
        "x_validation_noisy = x_validation + noise_factor * np.random.normal(loc=0.0, scale=1.0, size=x_validation.shape) \n",
        "x_test_noisy = x_test + noise_factor * np.random.normal(loc=0.0, scale=1.0, size=x_test.shape) \n",
        "\n",
        "x_train_noisy = np.clip(x_train_noisy, 0., 1.)\n",
        "x_validation_noisy = np.clip(x_validation_noisy, 0., 1.)\n",
        "x_test_noisy = np.clip(x_test_noisy, 0., 1.)"
      ],
      "metadata": {
        "id": "AH_FU23hxM08"
      },
      "execution_count": 9,
      "outputs": []
    },
    {
      "cell_type": "code",
      "source": [
        "input_layer = keras.Input(shape=(28, 28, 1))\n",
        "\n",
        "x = layers.Conv2D(32, (3, 3), activation='relu', padding='same')(input_layer)\n",
        "x = layers.MaxPooling2D((2, 2), padding='same')(x)\n",
        "x = layers.Conv2D(32, (3, 3), activation='relu', padding='same')(x)\n",
        "encoded = layers.MaxPooling2D((2, 2), padding='same')(x)\n",
        "\n",
        "# At this point the representation is (7, 7, 32)\n",
        "\n",
        "x = layers.Conv2D(32, (3, 3), activation='relu', padding='same')(encoded)\n",
        "x = layers.UpSampling2D((2, 2))(x)\n",
        "x = layers.Conv2D(32, (3, 3), activation='relu', padding='same')(x)\n",
        "x = layers.UpSampling2D((2, 2))(x)\n",
        "decoded = layers.Conv2D(1, (3, 3), activation='sigmoid', padding='same')(x)\n",
        "\n",
        "autoencoder = keras.Model(input_layer, decoded)\n",
        "autoencoder.compile(optimizer='adam', loss='binary_crossentropy')\n",
        "autoencoder.summary()\n"
      ],
      "metadata": {
        "colab": {
          "base_uri": "https://localhost:8080/",
          "height": 0
        },
        "id": "ow_t7dhO7HF2",
        "outputId": "e7f2e524-9a4b-4a85-8b09-69af792ffdf2"
      },
      "execution_count": 10,
      "outputs": [
        {
          "output_type": "stream",
          "name": "stdout",
          "text": [
            "Model: \"model_3\"\n",
            "_________________________________________________________________\n",
            " Layer (type)                Output Shape              Param #   \n",
            "=================================================================\n",
            " input_3 (InputLayer)        [(None, 28, 28, 1)]       0         \n",
            "                                                                 \n",
            " conv2d (Conv2D)             (None, 28, 28, 32)        320       \n",
            "                                                                 \n",
            " max_pooling2d (MaxPooling2D  (None, 14, 14, 32)       0         \n",
            " )                                                               \n",
            "                                                                 \n",
            " conv2d_1 (Conv2D)           (None, 14, 14, 32)        9248      \n",
            "                                                                 \n",
            " max_pooling2d_1 (MaxPooling  (None, 7, 7, 32)         0         \n",
            " 2D)                                                             \n",
            "                                                                 \n",
            " conv2d_2 (Conv2D)           (None, 7, 7, 32)          9248      \n",
            "                                                                 \n",
            " up_sampling2d (UpSampling2D  (None, 14, 14, 32)       0         \n",
            " )                                                               \n",
            "                                                                 \n",
            " conv2d_3 (Conv2D)           (None, 14, 14, 32)        9248      \n",
            "                                                                 \n",
            " up_sampling2d_1 (UpSampling  (None, 28, 28, 32)       0         \n",
            " 2D)                                                             \n",
            "                                                                 \n",
            " conv2d_4 (Conv2D)           (None, 28, 28, 1)         289       \n",
            "                                                                 \n",
            "=================================================================\n",
            "Total params: 28,353\n",
            "Trainable params: 28,353\n",
            "Non-trainable params: 0\n",
            "_________________________________________________________________\n"
          ]
        }
      ]
    },
    {
      "cell_type": "code",
      "source": [
        "autoencoder.fit(x_train_noisy, x_train,\n",
        "                epochs=30,\n",
        "                batch_size=2048,\n",
        "                shuffle=True,\n",
        "                validation_data=(x_validation_noisy, x_validation))"
      ],
      "metadata": {
        "colab": {
          "base_uri": "https://localhost:8080/",
          "height": 0
        },
        "id": "cS32GlpA8D0e",
        "outputId": "e0215d48-a9ea-4271-c75e-0f597b41a167"
      },
      "execution_count": 11,
      "outputs": [
        {
          "output_type": "stream",
          "name": "stdout",
          "text": [
            "Epoch 1/30\n",
            "24/24 [==============================] - 132s 5s/step - loss: 0.5505 - val_loss: 0.3785\n",
            "Epoch 2/30\n",
            "24/24 [==============================] - 135s 6s/step - loss: 0.3533 - val_loss: 0.3349\n",
            "Epoch 3/30\n",
            "24/24 [==============================] - 130s 5s/step - loss: 0.3287 - val_loss: 0.3231\n",
            "Epoch 4/30\n",
            "24/24 [==============================] - 133s 6s/step - loss: 0.3200 - val_loss: 0.3169\n",
            "Epoch 5/30\n",
            "24/24 [==============================] - 130s 5s/step - loss: 0.3151 - val_loss: 0.3130\n",
            "Epoch 6/30\n",
            "24/24 [==============================] - 132s 6s/step - loss: 0.3120 - val_loss: 0.3104\n",
            "Epoch 7/30\n",
            "24/24 [==============================] - 131s 5s/step - loss: 0.3093 - val_loss: 0.3083\n",
            "Epoch 8/30\n",
            "24/24 [==============================] - 131s 5s/step - loss: 0.3079 - val_loss: 0.3079\n",
            "Epoch 9/30\n",
            "24/24 [==============================] - 132s 5s/step - loss: 0.3063 - val_loss: 0.3056\n",
            "Epoch 10/30\n",
            "24/24 [==============================] - 130s 5s/step - loss: 0.3047 - val_loss: 0.3038\n",
            "Epoch 11/30\n",
            "24/24 [==============================] - 132s 5s/step - loss: 0.3035 - val_loss: 0.3027\n",
            "Epoch 12/30\n",
            "24/24 [==============================] - 131s 5s/step - loss: 0.3025 - val_loss: 0.3018\n",
            "Epoch 13/30\n",
            "24/24 [==============================] - 131s 5s/step - loss: 0.3019 - val_loss: 0.3008\n",
            "Epoch 14/30\n",
            "24/24 [==============================] - 131s 5s/step - loss: 0.3009 - val_loss: 0.3001\n",
            "Epoch 15/30\n",
            "24/24 [==============================] - 134s 6s/step - loss: 0.3001 - val_loss: 0.3000\n",
            "Epoch 16/30\n",
            "24/24 [==============================] - 130s 5s/step - loss: 0.2994 - val_loss: 0.2989\n",
            "Epoch 17/30\n",
            "24/24 [==============================] - 133s 6s/step - loss: 0.2993 - val_loss: 0.2985\n",
            "Epoch 18/30\n",
            "24/24 [==============================] - 130s 5s/step - loss: 0.2983 - val_loss: 0.2980\n",
            "Epoch 19/30\n",
            "24/24 [==============================] - 133s 6s/step - loss: 0.2980 - val_loss: 0.2989\n",
            "Epoch 20/30\n",
            "24/24 [==============================] - 132s 5s/step - loss: 0.2975 - val_loss: 0.2968\n",
            "Epoch 21/30\n",
            "24/24 [==============================] - 130s 5s/step - loss: 0.2969 - val_loss: 0.2964\n",
            "Epoch 22/30\n",
            "24/24 [==============================] - 133s 5s/step - loss: 0.2965 - val_loss: 0.2962\n",
            "Epoch 23/30\n",
            "24/24 [==============================] - 131s 5s/step - loss: 0.2962 - val_loss: 0.2957\n",
            "Epoch 24/30\n",
            "24/24 [==============================] - 133s 5s/step - loss: 0.2957 - val_loss: 0.2953\n",
            "Epoch 25/30\n",
            "24/24 [==============================] - 131s 5s/step - loss: 0.2953 - val_loss: 0.2951\n",
            "Epoch 26/30\n",
            "24/24 [==============================] - 131s 5s/step - loss: 0.2954 - val_loss: 0.2947\n",
            "Epoch 27/30\n",
            "24/24 [==============================] - 131s 5s/step - loss: 0.2947 - val_loss: 0.2946\n",
            "Epoch 28/30\n",
            "24/24 [==============================] - 132s 5s/step - loss: 0.2944 - val_loss: 0.2940\n",
            "Epoch 29/30\n",
            "24/24 [==============================] - 135s 6s/step - loss: 0.2941 - val_loss: 0.2938\n",
            "Epoch 30/30\n",
            "24/24 [==============================] - 133s 6s/step - loss: 0.2940 - val_loss: 0.2940\n"
          ]
        },
        {
          "output_type": "execute_result",
          "data": {
            "text/plain": [
              "<keras.callbacks.History at 0x7fa792b8a190>"
            ]
          },
          "metadata": {},
          "execution_count": 11
        }
      ]
    },
    {
      "cell_type": "code",
      "source": [
        "predictions = autoencoder.predict(x_test)\n",
        "\n",
        "n = 10\n",
        "plt.figure(figsize=(20, 4))\n",
        "for i in range(n):\n",
        "    # noisy\n",
        "    ax = plt.subplot(2, n, i + 1)\n",
        "    plt.imshow(x_test_noisy[i].reshape(28, 28))\n",
        "    plt.gray()\n",
        "    ax.get_xaxis().set_visible(False)\n",
        "    ax.get_yaxis().set_visible(False)\n",
        "\n",
        "    # reconstruction\n",
        "    ax = plt.subplot(2, n, i + 1 + n)\n",
        "    plt.imshow(predictions[i].reshape(28, 28))\n",
        "    plt.gray()\n",
        "    ax.get_xaxis().set_visible(False)\n",
        "    ax.get_yaxis().set_visible(False)\n",
        "plt.show()"
      ],
      "metadata": {
        "colab": {
          "base_uri": "https://localhost:8080/",
          "height": 266
        },
        "id": "9uRPZoZOG9Rj",
        "outputId": "60013647-7c5e-4457-adbf-05ad5e2082cb"
      },
      "execution_count": 13,
      "outputs": [
        {
          "output_type": "stream",
          "name": "stdout",
          "text": [
            "313/313 [==============================] - 8s 25ms/step\n"
          ]
        },
        {
          "output_type": "display_data",
          "data": {
            "text/plain": [
              "<Figure size 1440x288 with 20 Axes>"
            ],
            "image/png": "[encoded data removed]"
          },
          "metadata": {
            "needs_background": "light"
          }
        }
      ]
    }
  ],
  "metadata": {
    "kernelspec": {
      "display_name": "Python 3",
      "language": "python",
      "name": "python3"
    },
    "language_info": {
      "codemirror_mode": {
        "name": "ipython",
        "version": 3
      },
      "file_extension": ".py",
      "mimetype": "text/x-python",
      "name": "python",
      "nbconvert_exporter": "python",
      "pygments_lexer": "ipython3",
      "version": "3.8.3"
    },
    "colab": {
      "provenance": [],
      "include_colab_link": true
    }
  },
  "nbformat": 4,
  "nbformat_minor": 0
}